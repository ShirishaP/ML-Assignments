{
  "nbformat": 4,
  "nbformat_minor": 0,
  "metadata": {
    "colab": {
      "name": "Analysis on Zomato dataset.ipynb",
      "provenance": [],
      "collapsed_sections": [],
      "authorship_tag": "ABX9TyONaLe2ni5i4/Sxrotd8mP5",
      "include_colab_link": true
    },
    "kernelspec": {
      "name": "python3",
      "display_name": "Python 3"
    },
    "language_info": {
      "name": "python"
    }
  },
  "cells": [
    {
      "cell_type": "markdown",
      "metadata": {
        "id": "view-in-github",
        "colab_type": "text"
      },
      "source": [
        "<a href=\"https://colab.research.google.com/github/ShirishaP/ML-Assignments/blob/main/Analysis_on_Zomato_dataset.ipynb\" target=\"_parent\"><img src=\"https://colab.research.google.com/assets/colab-badge.svg\" alt=\"Open In Colab\"/></a>"
      ]
    },
    {
      "cell_type": "markdown",
      "metadata": {
        "id": "xJNkLtljXmqX"
      },
      "source": [
        "**Data Analysis on Zomato data set**"
      ]
    },
    {
      "cell_type": "code",
      "metadata": {
        "id": "f4hpedlnXNHT"
      },
      "source": [
        "import pandas as pd\n",
        "import seaborn as sns\n",
        "import matplotlib.pyplot as plt\n",
        "import numpy as np\n",
        "%matplotlib inline"
      ],
      "execution_count": 1,
      "outputs": []
    },
    {
      "cell_type": "code",
      "metadata": {
        "colab": {
          "base_uri": "https://localhost:8080/"
        },
        "id": "pQaoTuTCYJhN",
        "outputId": "b3d87543-88b6-4dfe-c952-dc868c821570"
      },
      "source": [
        "from google.colab import drive\n",
        "drive.mount(\"/content/gdrive\")"
      ],
      "execution_count": 3,
      "outputs": [
        {
          "output_type": "stream",
          "text": [
            "Mounted at /content/gdrive\n"
          ],
          "name": "stdout"
        }
      ]
    },
    {
      "cell_type": "code",
      "metadata": {
        "colab": {
          "base_uri": "https://localhost:8080/",
          "height": 1000
        },
        "id": "CxrMrvS-XfuL",
        "outputId": "e9d39ec7-aa06-48db-dbe5-35a857386bbd"
      },
      "source": [
        "df = pd.read_csv(\"/content/gdrive/My Drive/DataSets/zomato.csv\")\n",
        "df"
      ],
      "execution_count": 4,
      "outputs": [
        {
          "output_type": "execute_result",
          "data": {
            "text/html": [
              "<div>\n",
              "<style scoped>\n",
              "    .dataframe tbody tr th:only-of-type {\n",
              "        vertical-align: middle;\n",
              "    }\n",
              "\n",
              "    .dataframe tbody tr th {\n",
              "        vertical-align: top;\n",
              "    }\n",
              "\n",
              "    .dataframe thead th {\n",
              "        text-align: right;\n",
              "    }\n",
              "</style>\n",
              "<table border=\"1\" class=\"dataframe\">\n",
              "  <thead>\n",
              "    <tr style=\"text-align: right;\">\n",
              "      <th></th>\n",
              "      <th>url</th>\n",
              "      <th>address</th>\n",
              "      <th>name</th>\n",
              "      <th>online_order</th>\n",
              "      <th>book_table</th>\n",
              "      <th>rate</th>\n",
              "      <th>votes</th>\n",
              "      <th>phone</th>\n",
              "      <th>location</th>\n",
              "      <th>rest_type</th>\n",
              "      <th>dish_liked</th>\n",
              "      <th>cuisines</th>\n",
              "      <th>approx_cost(for two people)</th>\n",
              "      <th>reviews_list</th>\n",
              "      <th>menu_item</th>\n",
              "      <th>listed_in(type)</th>\n",
              "      <th>listed_in(city)</th>\n",
              "    </tr>\n",
              "  </thead>\n",
              "  <tbody>\n",
              "    <tr>\n",
              "      <th>0</th>\n",
              "      <td>https://www.zomato.com/bangalore/jalsa-banasha...</td>\n",
              "      <td>942, 21st Main Road, 2nd Stage, Banashankari, ...</td>\n",
              "      <td>Jalsa</td>\n",
              "      <td>Yes</td>\n",
              "      <td>Yes</td>\n",
              "      <td>4.1/5</td>\n",
              "      <td>775</td>\n",
              "      <td>080 42297555\\r\\n+91 9743772233</td>\n",
              "      <td>Banashankari</td>\n",
              "      <td>Casual Dining</td>\n",
              "      <td>Pasta, Lunch Buffet, Masala Papad, Paneer Laja...</td>\n",
              "      <td>North Indian, Mughlai, Chinese</td>\n",
              "      <td>800</td>\n",
              "      <td>[('Rated 4.0', 'RATED\\n  A beautiful place to ...</td>\n",
              "      <td>[]</td>\n",
              "      <td>Buffet</td>\n",
              "      <td>Banashankari</td>\n",
              "    </tr>\n",
              "    <tr>\n",
              "      <th>1</th>\n",
              "      <td>https://www.zomato.com/bangalore/spice-elephan...</td>\n",
              "      <td>2nd Floor, 80 Feet Road, Near Big Bazaar, 6th ...</td>\n",
              "      <td>Spice Elephant</td>\n",
              "      <td>Yes</td>\n",
              "      <td>No</td>\n",
              "      <td>4.1/5</td>\n",
              "      <td>787</td>\n",
              "      <td>080 41714161</td>\n",
              "      <td>Banashankari</td>\n",
              "      <td>Casual Dining</td>\n",
              "      <td>Momos, Lunch Buffet, Chocolate Nirvana, Thai G...</td>\n",
              "      <td>Chinese, North Indian, Thai</td>\n",
              "      <td>800</td>\n",
              "      <td>[('Rated 4.0', 'RATED\\n  Had been here for din...</td>\n",
              "      <td>[]</td>\n",
              "      <td>Buffet</td>\n",
              "      <td>Banashankari</td>\n",
              "    </tr>\n",
              "    <tr>\n",
              "      <th>2</th>\n",
              "      <td>https://www.zomato.com/SanchurroBangalore?cont...</td>\n",
              "      <td>1112, Next to KIMS Medical College, 17th Cross...</td>\n",
              "      <td>San Churro Cafe</td>\n",
              "      <td>Yes</td>\n",
              "      <td>No</td>\n",
              "      <td>3.8/5</td>\n",
              "      <td>918</td>\n",
              "      <td>+91 9663487993</td>\n",
              "      <td>Banashankari</td>\n",
              "      <td>Cafe, Casual Dining</td>\n",
              "      <td>Churros, Cannelloni, Minestrone Soup, Hot Choc...</td>\n",
              "      <td>Cafe, Mexican, Italian</td>\n",
              "      <td>800</td>\n",
              "      <td>[('Rated 3.0', \"RATED\\n  Ambience is not that ...</td>\n",
              "      <td>[]</td>\n",
              "      <td>Buffet</td>\n",
              "      <td>Banashankari</td>\n",
              "    </tr>\n",
              "    <tr>\n",
              "      <th>3</th>\n",
              "      <td>https://www.zomato.com/bangalore/addhuri-udupi...</td>\n",
              "      <td>1st Floor, Annakuteera, 3rd Stage, Banashankar...</td>\n",
              "      <td>Addhuri Udupi Bhojana</td>\n",
              "      <td>No</td>\n",
              "      <td>No</td>\n",
              "      <td>3.7/5</td>\n",
              "      <td>88</td>\n",
              "      <td>+91 9620009302</td>\n",
              "      <td>Banashankari</td>\n",
              "      <td>Quick Bites</td>\n",
              "      <td>Masala Dosa</td>\n",
              "      <td>South Indian, North Indian</td>\n",
              "      <td>300</td>\n",
              "      <td>[('Rated 4.0', \"RATED\\n  Great food and proper...</td>\n",
              "      <td>[]</td>\n",
              "      <td>Buffet</td>\n",
              "      <td>Banashankari</td>\n",
              "    </tr>\n",
              "    <tr>\n",
              "      <th>4</th>\n",
              "      <td>https://www.zomato.com/bangalore/grand-village...</td>\n",
              "      <td>10, 3rd Floor, Lakshmi Associates, Gandhi Baza...</td>\n",
              "      <td>Grand Village</td>\n",
              "      <td>No</td>\n",
              "      <td>No</td>\n",
              "      <td>3.8/5</td>\n",
              "      <td>166</td>\n",
              "      <td>+91 8026612447\\r\\n+91 9901210005</td>\n",
              "      <td>Basavanagudi</td>\n",
              "      <td>Casual Dining</td>\n",
              "      <td>Panipuri, Gol Gappe</td>\n",
              "      <td>North Indian, Rajasthani</td>\n",
              "      <td>600</td>\n",
              "      <td>[('Rated 4.0', 'RATED\\n  Very good restaurant ...</td>\n",
              "      <td>[]</td>\n",
              "      <td>Buffet</td>\n",
              "      <td>Banashankari</td>\n",
              "    </tr>\n",
              "    <tr>\n",
              "      <th>...</th>\n",
              "      <td>...</td>\n",
              "      <td>...</td>\n",
              "      <td>...</td>\n",
              "      <td>...</td>\n",
              "      <td>...</td>\n",
              "      <td>...</td>\n",
              "      <td>...</td>\n",
              "      <td>...</td>\n",
              "      <td>...</td>\n",
              "      <td>...</td>\n",
              "      <td>...</td>\n",
              "      <td>...</td>\n",
              "      <td>...</td>\n",
              "      <td>...</td>\n",
              "      <td>...</td>\n",
              "      <td>...</td>\n",
              "      <td>...</td>\n",
              "    </tr>\n",
              "    <tr>\n",
              "      <th>51712</th>\n",
              "      <td>https://www.zomato.com/bangalore/best-brews-fo...</td>\n",
              "      <td>Four Points by Sheraton Bengaluru, 43/3, White...</td>\n",
              "      <td>Best Brews - Four Points by Sheraton Bengaluru...</td>\n",
              "      <td>No</td>\n",
              "      <td>No</td>\n",
              "      <td>3.6 /5</td>\n",
              "      <td>27</td>\n",
              "      <td>080 40301477</td>\n",
              "      <td>Whitefield</td>\n",
              "      <td>Bar</td>\n",
              "      <td>NaN</td>\n",
              "      <td>Continental</td>\n",
              "      <td>1,500</td>\n",
              "      <td>[('Rated 5.0', \"RATED\\n  Food and service are ...</td>\n",
              "      <td>[]</td>\n",
              "      <td>Pubs and bars</td>\n",
              "      <td>Whitefield</td>\n",
              "    </tr>\n",
              "    <tr>\n",
              "      <th>51713</th>\n",
              "      <td>https://www.zomato.com/bangalore/vinod-bar-and...</td>\n",
              "      <td>Number 10, Garudachar Palya, Mahadevapura, Whi...</td>\n",
              "      <td>Vinod Bar And Restaurant</td>\n",
              "      <td>No</td>\n",
              "      <td>No</td>\n",
              "      <td>NaN</td>\n",
              "      <td>0</td>\n",
              "      <td>+91 8197675843</td>\n",
              "      <td>Whitefield</td>\n",
              "      <td>Bar</td>\n",
              "      <td>NaN</td>\n",
              "      <td>Finger Food</td>\n",
              "      <td>600</td>\n",
              "      <td>[]</td>\n",
              "      <td>[]</td>\n",
              "      <td>Pubs and bars</td>\n",
              "      <td>Whitefield</td>\n",
              "    </tr>\n",
              "    <tr>\n",
              "      <th>51714</th>\n",
              "      <td>https://www.zomato.com/bangalore/plunge-sherat...</td>\n",
              "      <td>Sheraton Grand Bengaluru Whitefield Hotel &amp; Co...</td>\n",
              "      <td>Plunge - Sheraton Grand Bengaluru Whitefield H...</td>\n",
              "      <td>No</td>\n",
              "      <td>No</td>\n",
              "      <td>NaN</td>\n",
              "      <td>0</td>\n",
              "      <td>NaN</td>\n",
              "      <td>Whitefield</td>\n",
              "      <td>Bar</td>\n",
              "      <td>NaN</td>\n",
              "      <td>Finger Food</td>\n",
              "      <td>2,000</td>\n",
              "      <td>[]</td>\n",
              "      <td>[]</td>\n",
              "      <td>Pubs and bars</td>\n",
              "      <td>Whitefield</td>\n",
              "    </tr>\n",
              "    <tr>\n",
              "      <th>51715</th>\n",
              "      <td>https://www.zomato.com/bangalore/chime-sherato...</td>\n",
              "      <td>Sheraton Grand Bengaluru Whitefield Hotel &amp; Co...</td>\n",
              "      <td>Chime - Sheraton Grand Bengaluru Whitefield Ho...</td>\n",
              "      <td>No</td>\n",
              "      <td>Yes</td>\n",
              "      <td>4.3 /5</td>\n",
              "      <td>236</td>\n",
              "      <td>080 49652769</td>\n",
              "      <td>ITPL Main Road, Whitefield</td>\n",
              "      <td>Bar</td>\n",
              "      <td>Cocktails, Pizza, Buttermilk</td>\n",
              "      <td>Finger Food</td>\n",
              "      <td>2,500</td>\n",
              "      <td>[('Rated 4.0', 'RATED\\n  Nice and friendly pla...</td>\n",
              "      <td>[]</td>\n",
              "      <td>Pubs and bars</td>\n",
              "      <td>Whitefield</td>\n",
              "    </tr>\n",
              "    <tr>\n",
              "      <th>51716</th>\n",
              "      <td>https://www.zomato.com/bangalore/the-nest-the-...</td>\n",
              "      <td>ITPL Main Road, KIADB Export Promotion Industr...</td>\n",
              "      <td>The Nest - The Den Bengaluru</td>\n",
              "      <td>No</td>\n",
              "      <td>No</td>\n",
              "      <td>3.4 /5</td>\n",
              "      <td>13</td>\n",
              "      <td>+91 8071117272</td>\n",
              "      <td>ITPL Main Road, Whitefield</td>\n",
              "      <td>Bar, Casual Dining</td>\n",
              "      <td>NaN</td>\n",
              "      <td>Finger Food, North Indian, Continental</td>\n",
              "      <td>1,500</td>\n",
              "      <td>[('Rated 5.0', 'RATED\\n  Great ambience , look...</td>\n",
              "      <td>[]</td>\n",
              "      <td>Pubs and bars</td>\n",
              "      <td>Whitefield</td>\n",
              "    </tr>\n",
              "  </tbody>\n",
              "</table>\n",
              "<p>51717 rows × 17 columns</p>\n",
              "</div>"
            ],
            "text/plain": [
              "                                                     url  ... listed_in(city)\n",
              "0      https://www.zomato.com/bangalore/jalsa-banasha...  ...    Banashankari\n",
              "1      https://www.zomato.com/bangalore/spice-elephan...  ...    Banashankari\n",
              "2      https://www.zomato.com/SanchurroBangalore?cont...  ...    Banashankari\n",
              "3      https://www.zomato.com/bangalore/addhuri-udupi...  ...    Banashankari\n",
              "4      https://www.zomato.com/bangalore/grand-village...  ...    Banashankari\n",
              "...                                                  ...  ...             ...\n",
              "51712  https://www.zomato.com/bangalore/best-brews-fo...  ...      Whitefield\n",
              "51713  https://www.zomato.com/bangalore/vinod-bar-and...  ...      Whitefield\n",
              "51714  https://www.zomato.com/bangalore/plunge-sherat...  ...      Whitefield\n",
              "51715  https://www.zomato.com/bangalore/chime-sherato...  ...      Whitefield\n",
              "51716  https://www.zomato.com/bangalore/the-nest-the-...  ...      Whitefield\n",
              "\n",
              "[51717 rows x 17 columns]"
            ]
          },
          "metadata": {
            "tags": []
          },
          "execution_count": 4
        }
      ]
    },
    {
      "cell_type": "code",
      "metadata": {
        "colab": {
          "base_uri": "https://localhost:8080/"
        },
        "id": "YafTNsVmdx5k",
        "outputId": "b0a8dd54-627c-44ae-e302-b8dab74d0737"
      },
      "source": [
        "df.shape"
      ],
      "execution_count": 7,
      "outputs": [
        {
          "output_type": "execute_result",
          "data": {
            "text/plain": [
              "(51717, 17)"
            ]
          },
          "metadata": {
            "tags": []
          },
          "execution_count": 7
        }
      ]
    },
    {
      "cell_type": "code",
      "metadata": {
        "colab": {
          "base_uri": "https://localhost:8080/"
        },
        "id": "12779I68bLN1",
        "outputId": "3f683bcc-e12c-443c-aa41-254864c46400"
      },
      "source": [
        "df.dtypes"
      ],
      "execution_count": 5,
      "outputs": [
        {
          "output_type": "execute_result",
          "data": {
            "text/plain": [
              "url                            object\n",
              "address                        object\n",
              "name                           object\n",
              "online_order                   object\n",
              "book_table                     object\n",
              "rate                           object\n",
              "votes                           int64\n",
              "phone                          object\n",
              "location                       object\n",
              "rest_type                      object\n",
              "dish_liked                     object\n",
              "cuisines                       object\n",
              "approx_cost(for two people)    object\n",
              "reviews_list                   object\n",
              "menu_item                      object\n",
              "listed_in(type)                object\n",
              "listed_in(city)                object\n",
              "dtype: object"
            ]
          },
          "metadata": {
            "tags": []
          },
          "execution_count": 5
        }
      ]
    },
    {
      "cell_type": "code",
      "metadata": {
        "colab": {
          "base_uri": "https://localhost:8080/"
        },
        "id": "bUBsGYH6dqsb",
        "outputId": "61ef8daa-a9f5-45d7-d98e-1d6938d932e0"
      },
      "source": [
        "df.isnull().sum()"
      ],
      "execution_count": 6,
      "outputs": [
        {
          "output_type": "execute_result",
          "data": {
            "text/plain": [
              "url                                0\n",
              "address                            0\n",
              "name                               0\n",
              "online_order                       0\n",
              "book_table                         0\n",
              "rate                            7775\n",
              "votes                              0\n",
              "phone                           1208\n",
              "location                          21\n",
              "rest_type                        227\n",
              "dish_liked                     28078\n",
              "cuisines                          45\n",
              "approx_cost(for two people)      346\n",
              "reviews_list                       0\n",
              "menu_item                          0\n",
              "listed_in(type)                    0\n",
              "listed_in(city)                    0\n",
              "dtype: int64"
            ]
          },
          "metadata": {
            "tags": []
          },
          "execution_count": 6
        }
      ]
    },
    {
      "cell_type": "markdown",
      "metadata": {
        "id": "GBaNHwsJeBs4"
      },
      "source": [
        "From the data set we can see, we do not need the URL, phone number of the users and complete address as we can consider only location here."
      ]
    },
    {
      "cell_type": "code",
      "metadata": {
        "id": "h_JGZXA6eVlQ"
      },
      "source": [
        "df1 = df.copy()\n",
        "columns_to_be_removed=['url','address','phone']\n",
        "df1=df1.drop(columns_to_be_removed,axis=1)"
      ],
      "execution_count": 11,
      "outputs": []
    },
    {
      "cell_type": "code",
      "metadata": {
        "id": "fT7ALx-DnQ-J"
      },
      "source": [
        "#For rating there are some null and other values and need to format it \n",
        "df1['rate'] = df1['rate'].replace('NEW',np.NaN)\n",
        "df1['rate'] = df1['rate'].replace('-',np.NaN)\n",
        "df1.dropna(how = 'any', inplace = True)\n"
      ],
      "execution_count": 100,
      "outputs": []
    },
    {
      "cell_type": "code",
      "metadata": {
        "colab": {
          "base_uri": "https://localhost:8080/"
        },
        "id": "hvYf9ONdvhdv",
        "outputId": "49b554d4-ef85-43a8-d9ad-0d253ffe4277"
      },
      "source": [
        "df1['rate']"
      ],
      "execution_count": 101,
      "outputs": [
        {
          "output_type": "execute_result",
          "data": {
            "text/plain": [
              "0         4.1/5\n",
              "1         4.1/5\n",
              "2         3.8/5\n",
              "3         3.7/5\n",
              "4         3.8/5\n",
              "          ...  \n",
              "51705    3.8 /5\n",
              "51707    3.9 /5\n",
              "51708    2.8 /5\n",
              "51711    2.5 /5\n",
              "51715    4.3 /5\n",
              "Name: rate, Length: 23259, dtype: object"
            ]
          },
          "metadata": {
            "tags": []
          },
          "execution_count": 101
        }
      ]
    },
    {
      "cell_type": "code",
      "metadata": {
        "colab": {
          "base_uri": "https://localhost:8080/"
        },
        "id": "kYQW8CiAvxdh",
        "outputId": "a133f927-d8d0-4954-b7ac-455491554b7f"
      },
      "source": [
        "df1['rate'] = df1['rate'].astype(str)\n",
        "df1['rate'] = df1['rate'].apply(lambda r: r.replace('/5',''))\n",
        "df1['rate'] = df1['rate'].apply(lambda r: float(r))\n",
        "df1['rate']"
      ],
      "execution_count": 102,
      "outputs": [
        {
          "output_type": "execute_result",
          "data": {
            "text/plain": [
              "0        4.1\n",
              "1        4.1\n",
              "2        3.8\n",
              "3        3.7\n",
              "4        3.8\n",
              "        ... \n",
              "51705    3.8\n",
              "51707    3.9\n",
              "51708    2.8\n",
              "51711    2.5\n",
              "51715    4.3\n",
              "Name: rate, Length: 23259, dtype: float64"
            ]
          },
          "metadata": {
            "tags": []
          },
          "execution_count": 102
        }
      ]
    },
    {
      "cell_type": "code",
      "metadata": {
        "colab": {
          "base_uri": "https://localhost:8080/"
        },
        "id": "O_QuC9Qkw2F7",
        "outputId": "cbb3dac9-82b4-42ad-c2ec-88f2637b531d"
      },
      "source": [
        "df1['rate'].value_counts()"
      ],
      "execution_count": 104,
      "outputs": [
        {
          "output_type": "execute_result",
          "data": {
            "text/plain": [
              "3.9    3250\n",
              "4.0    2903\n",
              "4.1    2830\n",
              "3.8    2484\n",
              "4.2    2125\n",
              "4.3    1681\n",
              "3.7    1646\n",
              "4.4    1142\n",
              "3.6     878\n",
              "4.5     648\n",
              "3.5     482\n",
              "3.4     351\n",
              "2.8     321\n",
              "2.9     313\n",
              "3.1     307\n",
              "4.6     300\n",
              "3.0     291\n",
              "3.2     250\n",
              "3.3     219\n",
              "2.7     190\n",
              "4.7     167\n",
              "2.6     138\n",
              "4.8      66\n",
              "2.5      57\n",
              "4.9      55\n",
              "2.4      54\n",
              "2.3      45\n",
              "2.2      26\n",
              "2.1      24\n",
              "2.0      11\n",
              "1.8       5\n",
              "Name: rate, dtype: int64"
            ]
          },
          "metadata": {
            "tags": []
          },
          "execution_count": 104
        }
      ]
    },
    {
      "cell_type": "code",
      "metadata": {
        "colab": {
          "base_uri": "https://localhost:8080/"
        },
        "id": "qF-6rxszvxpT",
        "outputId": "bd166c77-9e57-4fac-b01c-bc9ca6eae4b4"
      },
      "source": [
        "df1.isnull().sum()"
      ],
      "execution_count": 106,
      "outputs": [
        {
          "output_type": "execute_result",
          "data": {
            "text/plain": [
              "name                           0\n",
              "online_order                   0\n",
              "book_table                     0\n",
              "rate                           0\n",
              "votes                          0\n",
              "location                       0\n",
              "rest_type                      0\n",
              "dish_liked                     0\n",
              "cuisines                       0\n",
              "approx_cost(for two people)    0\n",
              "reviews_list                   0\n",
              "menu_item                      0\n",
              "listed_in(type)                0\n",
              "listed_in(city)                0\n",
              "dtype: int64"
            ]
          },
          "metadata": {
            "tags": []
          },
          "execution_count": 106
        }
      ]
    },
    {
      "cell_type": "code",
      "metadata": {
        "colab": {
          "base_uri": "https://localhost:8080/"
        },
        "id": "jwpaEGiYfM6S",
        "outputId": "f5aaee1e-c75c-41d1-e040-0bc18b737750"
      },
      "source": [
        "restaurants = df1['name'].value_counts()[0:10]\n",
        "restaurants"
      ],
      "execution_count": 107,
      "outputs": [
        {
          "output_type": "execute_result",
          "data": {
            "text/plain": [
              "Onesta                    85\n",
              "Empire Restaurant         67\n",
              "KFC                       59\n",
              "McDonald's                57\n",
              "Pizza Hut                 56\n",
              "Domino's Pizza            55\n",
              "Smally's Resto Cafe       54\n",
              "Faasos                    54\n",
              "Corner House Ice Cream    52\n",
              "Burger King               51\n",
              "Name: name, dtype: int64"
            ]
          },
          "metadata": {
            "tags": []
          },
          "execution_count": 107
        }
      ]
    },
    {
      "cell_type": "code",
      "metadata": {
        "colab": {
          "base_uri": "https://localhost:8080/",
          "height": 296
        },
        "id": "ax3BNHD-jiSG",
        "outputId": "21d23dc5-e6b9-4730-d7a6-4bea8d237cca"
      },
      "source": [
        "\n",
        "sns.barplot(x=restaurants,y=restaurants.index)\n",
        " # Here we can see orders are done more from Onesta"
      ],
      "execution_count": 108,
      "outputs": [
        {
          "output_type": "execute_result",
          "data": {
            "text/plain": [
              "<matplotlib.axes._subplots.AxesSubplot at 0x7f1f95315710>"
            ]
          },
          "metadata": {
            "tags": []
          },
          "execution_count": 108
        },
        {
          "output_type": "display_data",
          "data": {
            "image/png": "[encoded data removed]",
            "text/plain": [
              "<Figure size 432x288 with 1 Axes>"
            ]
          },
          "metadata": {
            "tags": [],
            "needs_background": "light"
          }
        }
      ]
    },
    {
      "cell_type": "code",
      "metadata": {
        "colab": {
          "base_uri": "https://localhost:8080/",
          "height": 297
        },
        "id": "iRW_B1inZTgw",
        "outputId": "d341ffcf-e8c0-4145-c7a9-f63b0b1a673e"
      },
      "source": [
        "location = df1['listed_in(city)'].value_counts()[0:10]\n",
        "sns.barplot(x=location,y=location.index) #top 10 locations where orders are more"
      ],
      "execution_count": 152,
      "outputs": [
        {
          "output_type": "execute_result",
          "data": {
            "text/plain": [
              "<matplotlib.axes._subplots.AxesSubplot at 0x7f1f93b5b9d0>"
            ]
          },
          "metadata": {
            "tags": []
          },
          "execution_count": 152
        },
        {
          "output_type": "display_data",
          "data": {
            "image/png": "[encoded data removed]",
            "text/plain": [
              "<Figure size 432x288 with 1 Axes>"
            ]
          },
          "metadata": {
            "tags": [],
            "needs_background": "light"
          }
        }
      ]
    },
    {
      "cell_type": "code",
      "metadata": {
        "colab": {
          "base_uri": "https://localhost:8080/",
          "height": 248
        },
        "id": "EMoQDACPkvoo",
        "outputId": "a6abaf3a-5e0d-4f39-803c-1ad3729a4b74"
      },
      "source": [
        "#Let us see how many restaurants have online orders\n",
        "online_orders = df1['online_order'].value_counts()\n",
        "plt.pie(online_orders, labels=online_orders.index)\n",
        "plt.show()\n"
      ],
      "execution_count": 109,
      "outputs": [
        {
          "output_type": "display_data",
          "data": {
            "image/png": "[encoded data removed]",
            "text/plain": [
              "<Figure size 432x288 with 1 Axes>"
            ]
          },
          "metadata": {
            "tags": []
          }
        }
      ]
    },
    {
      "cell_type": "code",
      "metadata": {
        "colab": {
          "base_uri": "https://localhost:8080/",
          "height": 248
        },
        "id": "w1IZqM7gmHfq",
        "outputId": "aa7eeca1-c29d-4128-8daa-b8028464836c"
      },
      "source": [
        "#Let us see how many top restaurants have online orders \n",
        "popular_restaurants = df1['name'].value_counts()[:10].index\n",
        "df_popular = df1[df1['name'].isin(popular_restaurants)]\n",
        "online_order_top = df_popular['online_order'].value_counts()\n",
        "plt.pie(online_order_top, labels=online_order_top.index)\n",
        "plt.show()  \n"
      ],
      "execution_count": 110,
      "outputs": [
        {
          "output_type": "display_data",
          "data": {
            "image/png": "[encoded data removed]",
            "text/plain": [
              "<Figure size 432x288 with 1 Axes>"
            ]
          },
          "metadata": {
            "tags": []
          }
        }
      ]
    },
    {
      "cell_type": "markdown",
      "metadata": {
        "id": "pwM6frhKMtNy"
      },
      "source": [
        "Here we can see the most ordered restaurants mostly accept online orders that might be the reason why people are ordering from them frequently"
      ]
    },
    {
      "cell_type": "code",
      "metadata": {
        "colab": {
          "base_uri": "https://localhost:8080/",
          "height": 248
        },
        "id": "Q1reW3cBM8HX",
        "outputId": "f84deac3-d370-41fd-f885-12edca3203ee"
      },
      "source": [
        "book_table = df1['book_table'].value_counts()\n",
        "plt.pie(book_table, labels=book_table.index)\n",
        "plt.show()"
      ],
      "execution_count": 111,
      "outputs": [
        {
          "output_type": "display_data",
          "data": {
            "image/png": "[encoded data removed]",
            "text/plain": [
              "<Figure size 432x288 with 1 Axes>"
            ]
          },
          "metadata": {
            "tags": []
          }
        }
      ]
    },
    {
      "cell_type": "code",
      "metadata": {
        "colab": {
          "base_uri": "https://localhost:8080/",
          "height": 248
        },
        "id": "_kfhjJYzxbKk",
        "outputId": "1a5d7510-6d3b-4c5e-db64-a9ecf0034c75"
      },
      "source": [
        "popular_restaurants = df1['name'].value_counts()[:10].index\n",
        "df_popular = df1[df1['name'].isin(popular_restaurants)]\n",
        "book_table_top = df_popular['book_table'].value_counts()\n",
        "plt.pie(book_table_top, labels=book_table_top.index)\n",
        "plt.show() \n"
      ],
      "execution_count": 112,
      "outputs": [
        {
          "output_type": "display_data",
          "data": {
            "image/png": "[encoded data removed]",
            "text/plain": [
              "<Figure size 432x288 with 1 Axes>"
            ]
          },
          "metadata": {
            "tags": []
          }
        }
      ]
    },
    {
      "cell_type": "code",
      "metadata": {
        "colab": {
          "base_uri": "https://localhost:8080/"
        },
        "id": "2qaXFYQ-nB6d",
        "outputId": "7202b9e7-8685-4060-dd76-b0c1f03f24e7"
      },
      "source": [
        "df1['cuisines'].value_counts().head()\n"
      ],
      "execution_count": 113,
      "outputs": [
        {
          "output_type": "execute_result",
          "data": {
            "text/plain": [
              "North Indian                           1152\n",
              "North Indian, Chinese                   779\n",
              "South Indian                            366\n",
              "Cafe                                    285\n",
              "South Indian, North Indian, Chinese     233\n",
              "Name: cuisines, dtype: int64"
            ]
          },
          "metadata": {
            "tags": []
          },
          "execution_count": 113
        }
      ]
    },
    {
      "cell_type": "code",
      "metadata": {
        "colab": {
          "base_uri": "https://localhost:8080/",
          "height": 485
        },
        "id": "5UL3Ye2WOtLx",
        "outputId": "6fae01bb-3258-48c7-eede-22c241222602"
      },
      "source": [
        "df1['listed_in(type)'].value_counts().plot(kind = 'bar', figsize = (12,6),title = 'Number of restaurants by service type')\n"
      ],
      "execution_count": 119,
      "outputs": [
        {
          "output_type": "execute_result",
          "data": {
            "text/plain": [
              "<matplotlib.axes._subplots.AxesSubplot at 0x7f1f94ff2310>"
            ]
          },
          "metadata": {
            "tags": []
          },
          "execution_count": 119
        },
        {
          "output_type": "display_data",
          "data": {
            "image/png": "[encoded data removed]",
            "text/plain": [
              "<Figure size 864x432 with 1 Axes>"
            ]
          },
          "metadata": {
            "tags": [],
            "needs_background": "light"
          }
        }
      ]
    },
    {
      "cell_type": "code",
      "metadata": {
        "colab": {
          "base_uri": "https://localhost:8080/",
          "height": 896
        },
        "id": "HvlL2Ed1Prrm",
        "outputId": "9609248c-8135-459a-847c-8d64a6e3719c"
      },
      "source": [
        "df1['location'].value_counts().plot(kind = 'barh', figsize = (15,15), title = 'Number of restaurants by location')"
      ],
      "execution_count": 125,
      "outputs": [
        {
          "output_type": "execute_result",
          "data": {
            "text/plain": [
              "<matplotlib.axes._subplots.AxesSubplot at 0x7f1f950b4890>"
            ]
          },
          "metadata": {
            "tags": []
          },
          "execution_count": 125
        },
        {
          "output_type": "display_data",
          "data": {
            "image/png": "[encoded data removed]",
            "text/plain": [
              "<Figure size 1080x1080 with 1 Axes>"
            ]
          },
          "metadata": {
            "tags": [],
            "needs_background": "light"
          }
        }
      ]
    },
    {
      "cell_type": "code",
      "metadata": {
        "colab": {
          "base_uri": "https://localhost:8080/",
          "height": 282
        },
        "id": "NM13lHqNQnG-",
        "outputId": "4225ebff-03ef-45c9-ddee-3e5145f9fbd5"
      },
      "source": [
        "df1['approx_cost(for two people)'].value_counts().plot(kind = 'hist')\n"
      ],
      "execution_count": 124,
      "outputs": [
        {
          "output_type": "execute_result",
          "data": {
            "text/plain": [
              "<matplotlib.axes._subplots.AxesSubplot at 0x7f1f94b97bd0>"
            ]
          },
          "metadata": {
            "tags": []
          },
          "execution_count": 124
        },
        {
          "output_type": "display_data",
          "data": {
            "image/png": "[encoded data removed]",
            "text/plain": [
              "<Figure size 432x288 with 1 Axes>"
            ]
          },
          "metadata": {
            "tags": [],
            "needs_background": "light"
          }
        }
      ]
    },
    {
      "cell_type": "code",
      "metadata": {
        "id": "kw5u-jcJU0gN"
      },
      "source": [
        "df1['approx_cost(for two people)']= df1['approx_cost(for two people)'].astype(str)\n",
        "df1['approx_cost(for two people)'] = df1['approx_cost(for two people)'].apply(lambda r: r.replace(',',''))\n",
        "df1['approx_cost(for two people)'] = df1['approx_cost(for two people)'].apply(lambda r: float(r))"
      ],
      "execution_count": null,
      "outputs": []
    },
    {
      "cell_type": "code",
      "metadata": {
        "colab": {
          "base_uri": "https://localhost:8080/",
          "height": 204
        },
        "id": "MvSD2NjoSHOe",
        "outputId": "2f8a3c36-2f77-4170-dd91-cf5f797ac9bb"
      },
      "source": [
        "\n",
        "df2 = df1.loc[(df1.book_table == 'Yes') & (df1.rate > 4.0), ['name', 'rate','approx_cost(for two people)']]\n",
        "df2.head()"
      ],
      "execution_count": 135,
      "outputs": [
        {
          "output_type": "execute_result",
          "data": {
            "text/html": [
              "<div>\n",
              "<style scoped>\n",
              "    .dataframe tbody tr th:only-of-type {\n",
              "        vertical-align: middle;\n",
              "    }\n",
              "\n",
              "    .dataframe tbody tr th {\n",
              "        vertical-align: top;\n",
              "    }\n",
              "\n",
              "    .dataframe thead th {\n",
              "        text-align: right;\n",
              "    }\n",
              "</style>\n",
              "<table border=\"1\" class=\"dataframe\">\n",
              "  <thead>\n",
              "    <tr style=\"text-align: right;\">\n",
              "      <th></th>\n",
              "      <th>name</th>\n",
              "      <th>rate</th>\n",
              "      <th>approx_cost(for two people)</th>\n",
              "    </tr>\n",
              "  </thead>\n",
              "  <tbody>\n",
              "    <tr>\n",
              "      <th>0</th>\n",
              "      <td>Jalsa</td>\n",
              "      <td>4.1</td>\n",
              "      <td>800.0</td>\n",
              "    </tr>\n",
              "    <tr>\n",
              "      <th>7</th>\n",
              "      <td>Onesta</td>\n",
              "      <td>4.6</td>\n",
              "      <td>600.0</td>\n",
              "    </tr>\n",
              "    <tr>\n",
              "      <th>11</th>\n",
              "      <td>Cafe Shuffle</td>\n",
              "      <td>4.2</td>\n",
              "      <td>600.0</td>\n",
              "    </tr>\n",
              "    <tr>\n",
              "      <th>12</th>\n",
              "      <td>The Coffee Shack</td>\n",
              "      <td>4.2</td>\n",
              "      <td>500.0</td>\n",
              "    </tr>\n",
              "    <tr>\n",
              "      <th>44</th>\n",
              "      <td>Onesta</td>\n",
              "      <td>4.6</td>\n",
              "      <td>600.0</td>\n",
              "    </tr>\n",
              "  </tbody>\n",
              "</table>\n",
              "</div>"
            ],
            "text/plain": [
              "                name  rate  approx_cost(for two people)\n",
              "0              Jalsa   4.1                        800.0\n",
              "7             Onesta   4.6                        600.0\n",
              "11      Cafe Shuffle   4.2                        600.0\n",
              "12  The Coffee Shack   4.2                        500.0\n",
              "44            Onesta   4.6                        600.0"
            ]
          },
          "metadata": {
            "tags": []
          },
          "execution_count": 135
        }
      ]
    },
    {
      "cell_type": "code",
      "metadata": {
        "colab": {
          "base_uri": "https://localhost:8080/",
          "height": 318
        },
        "id": "kO7wjZ8ETW40",
        "outputId": "3ec0b8de-9983-4b50-96fe-1bd628fb31c6"
      },
      "source": [
        "\n",
        "\n",
        "df2.groupby(['rate'])['approx_cost(for two people)'].agg(['mean','median']).plot(kind = 'bar',title=\"Mean and median for restaurants rated above 4\")"
      ],
      "execution_count": 136,
      "outputs": [
        {
          "output_type": "execute_result",
          "data": {
            "text/plain": [
              "<matplotlib.axes._subplots.AxesSubplot at 0x7f1f94695050>"
            ]
          },
          "metadata": {
            "tags": []
          },
          "execution_count": 136
        },
        {
          "output_type": "display_data",
          "data": {
            "image/png": "[encoded data removed]",
            "text/plain": [
              "<Figure size 432x288 with 1 Axes>"
            ]
          },
          "metadata": {
            "tags": [],
            "needs_background": "light"
          }
        }
      ]
    },
    {
      "cell_type": "code",
      "metadata": {
        "colab": {
          "base_uri": "https://localhost:8080/",
          "height": 576
        },
        "id": "zdD9numLU3mJ",
        "outputId": "e73d9685-9205-4280-eb59-893e824bda5a"
      },
      "source": [
        "#top rated and cheapest restaurants\n",
        "top_rated_cheap = df2.loc[(df2.rate > 4.5) & (df2['approx_cost(for two people)'] < 1000), ['name','rate', 'approx_cost(for two people)']]\n",
        "top_rated_cheap"
      ],
      "execution_count": 138,
      "outputs": [
        {
          "output_type": "execute_result",
          "data": {
            "text/html": [
              "<div>\n",
              "<style scoped>\n",
              "    .dataframe tbody tr th:only-of-type {\n",
              "        vertical-align: middle;\n",
              "    }\n",
              "\n",
              "    .dataframe tbody tr th {\n",
              "        vertical-align: top;\n",
              "    }\n",
              "\n",
              "    .dataframe thead th {\n",
              "        text-align: right;\n",
              "    }\n",
              "</style>\n",
              "<table border=\"1\" class=\"dataframe\">\n",
              "  <thead>\n",
              "    <tr style=\"text-align: right;\">\n",
              "      <th></th>\n",
              "      <th>name</th>\n",
              "      <th>rate</th>\n",
              "      <th>approx_cost(for two people)</th>\n",
              "    </tr>\n",
              "  </thead>\n",
              "  <tbody>\n",
              "    <tr>\n",
              "      <th>7</th>\n",
              "      <td>Onesta</td>\n",
              "      <td>4.6</td>\n",
              "      <td>600.0</td>\n",
              "    </tr>\n",
              "    <tr>\n",
              "      <th>44</th>\n",
              "      <td>Onesta</td>\n",
              "      <td>4.6</td>\n",
              "      <td>600.0</td>\n",
              "    </tr>\n",
              "    <tr>\n",
              "      <th>557</th>\n",
              "      <td>Onesta</td>\n",
              "      <td>4.6</td>\n",
              "      <td>600.0</td>\n",
              "    </tr>\n",
              "    <tr>\n",
              "      <th>2497</th>\n",
              "      <td>Onesta</td>\n",
              "      <td>4.6</td>\n",
              "      <td>600.0</td>\n",
              "    </tr>\n",
              "    <tr>\n",
              "      <th>2584</th>\n",
              "      <td>Onesta</td>\n",
              "      <td>4.6</td>\n",
              "      <td>600.0</td>\n",
              "    </tr>\n",
              "    <tr>\n",
              "      <th>3293</th>\n",
              "      <td>Onesta</td>\n",
              "      <td>4.6</td>\n",
              "      <td>600.0</td>\n",
              "    </tr>\n",
              "    <tr>\n",
              "      <th>6995</th>\n",
              "      <td>Onesta</td>\n",
              "      <td>4.6</td>\n",
              "      <td>600.0</td>\n",
              "    </tr>\n",
              "    <tr>\n",
              "      <th>16975</th>\n",
              "      <td>Baar Union</td>\n",
              "      <td>4.6</td>\n",
              "      <td>850.0</td>\n",
              "    </tr>\n",
              "    <tr>\n",
              "      <th>17490</th>\n",
              "      <td>Baar Union</td>\n",
              "      <td>4.6</td>\n",
              "      <td>850.0</td>\n",
              "    </tr>\n",
              "    <tr>\n",
              "      <th>17501</th>\n",
              "      <td>Baar Union</td>\n",
              "      <td>4.6</td>\n",
              "      <td>850.0</td>\n",
              "    </tr>\n",
              "    <tr>\n",
              "      <th>19586</th>\n",
              "      <td>Onesta</td>\n",
              "      <td>4.6</td>\n",
              "      <td>600.0</td>\n",
              "    </tr>\n",
              "    <tr>\n",
              "      <th>26116</th>\n",
              "      <td>Zamindar</td>\n",
              "      <td>4.6</td>\n",
              "      <td>800.0</td>\n",
              "    </tr>\n",
              "    <tr>\n",
              "      <th>28920</th>\n",
              "      <td>Baar Union</td>\n",
              "      <td>4.6</td>\n",
              "      <td>850.0</td>\n",
              "    </tr>\n",
              "    <tr>\n",
              "      <th>29259</th>\n",
              "      <td>Baar Union</td>\n",
              "      <td>4.6</td>\n",
              "      <td>850.0</td>\n",
              "    </tr>\n",
              "    <tr>\n",
              "      <th>40535</th>\n",
              "      <td>Onesta</td>\n",
              "      <td>4.6</td>\n",
              "      <td>600.0</td>\n",
              "    </tr>\n",
              "    <tr>\n",
              "      <th>40802</th>\n",
              "      <td>Onesta</td>\n",
              "      <td>4.6</td>\n",
              "      <td>600.0</td>\n",
              "    </tr>\n",
              "    <tr>\n",
              "      <th>41542</th>\n",
              "      <td>Onesta</td>\n",
              "      <td>4.6</td>\n",
              "      <td>600.0</td>\n",
              "    </tr>\n",
              "  </tbody>\n",
              "</table>\n",
              "</div>"
            ],
            "text/plain": [
              "             name  rate  approx_cost(for two people)\n",
              "7          Onesta   4.6                        600.0\n",
              "44         Onesta   4.6                        600.0\n",
              "557        Onesta   4.6                        600.0\n",
              "2497       Onesta   4.6                        600.0\n",
              "2584       Onesta   4.6                        600.0\n",
              "3293       Onesta   4.6                        600.0\n",
              "6995       Onesta   4.6                        600.0\n",
              "16975  Baar Union   4.6                        850.0\n",
              "17490  Baar Union   4.6                        850.0\n",
              "17501  Baar Union   4.6                        850.0\n",
              "19586      Onesta   4.6                        600.0\n",
              "26116    Zamindar   4.6                        800.0\n",
              "28920  Baar Union   4.6                        850.0\n",
              "29259  Baar Union   4.6                        850.0\n",
              "40535      Onesta   4.6                        600.0\n",
              "40802      Onesta   4.6                        600.0\n",
              "41542      Onesta   4.6                        600.0"
            ]
          },
          "metadata": {
            "tags": []
          },
          "execution_count": 138
        }
      ]
    },
    {
      "cell_type": "code",
      "metadata": {
        "colab": {
          "base_uri": "https://localhost:8080/"
        },
        "id": "wvBtmEn6Vtqo",
        "outputId": "73559719-2985-474f-a170-48b85d631554"
      },
      "source": [
        "top_rated_cheap.name.unique() # These are the restaturants which are highly rated but cheap price"
      ],
      "execution_count": 139,
      "outputs": [
        {
          "output_type": "execute_result",
          "data": {
            "text/plain": [
              "array(['Onesta', 'Baar Union', 'Zamindar'], dtype=object)"
            ]
          },
          "metadata": {
            "tags": []
          },
          "execution_count": 139
        }
      ]
    },
    {
      "cell_type": "code",
      "metadata": {
        "colab": {
          "base_uri": "https://localhost:8080/",
          "height": 204
        },
        "id": "fmgA_O-aV4OS",
        "outputId": "16266ac1-cafe-4446-cd74-2234cc15814c"
      },
      "source": [
        "df3 = df1.loc[ (df1.rate > 4.0), ['name', 'rate','approx_cost(for two people)','listed_in(city)']]\n",
        "df3.head()"
      ],
      "execution_count": 141,
      "outputs": [
        {
          "output_type": "execute_result",
          "data": {
            "text/html": [
              "<div>\n",
              "<style scoped>\n",
              "    .dataframe tbody tr th:only-of-type {\n",
              "        vertical-align: middle;\n",
              "    }\n",
              "\n",
              "    .dataframe tbody tr th {\n",
              "        vertical-align: top;\n",
              "    }\n",
              "\n",
              "    .dataframe thead th {\n",
              "        text-align: right;\n",
              "    }\n",
              "</style>\n",
              "<table border=\"1\" class=\"dataframe\">\n",
              "  <thead>\n",
              "    <tr style=\"text-align: right;\">\n",
              "      <th></th>\n",
              "      <th>name</th>\n",
              "      <th>rate</th>\n",
              "      <th>approx_cost(for two people)</th>\n",
              "      <th>listed_in(city)</th>\n",
              "    </tr>\n",
              "  </thead>\n",
              "  <tbody>\n",
              "    <tr>\n",
              "      <th>0</th>\n",
              "      <td>Jalsa</td>\n",
              "      <td>4.1</td>\n",
              "      <td>800.0</td>\n",
              "      <td>Banashankari</td>\n",
              "    </tr>\n",
              "    <tr>\n",
              "      <th>1</th>\n",
              "      <td>Spice Elephant</td>\n",
              "      <td>4.1</td>\n",
              "      <td>800.0</td>\n",
              "      <td>Banashankari</td>\n",
              "    </tr>\n",
              "    <tr>\n",
              "      <th>7</th>\n",
              "      <td>Onesta</td>\n",
              "      <td>4.6</td>\n",
              "      <td>600.0</td>\n",
              "      <td>Banashankari</td>\n",
              "    </tr>\n",
              "    <tr>\n",
              "      <th>9</th>\n",
              "      <td>Smacznego</td>\n",
              "      <td>4.2</td>\n",
              "      <td>550.0</td>\n",
              "      <td>Banashankari</td>\n",
              "    </tr>\n",
              "    <tr>\n",
              "      <th>10</th>\n",
              "      <td>CafÃÂÃÂÃÂÃÂÃÂÃÂÃÂÃÂ© Down The A...</td>\n",
              "      <td>4.1</td>\n",
              "      <td>500.0</td>\n",
              "      <td>Banashankari</td>\n",
              "    </tr>\n",
              "  </tbody>\n",
              "</table>\n",
              "</div>"
            ],
            "text/plain": [
              "                                                 name  ...  listed_in(city)\n",
              "0                                               Jalsa  ...     Banashankari\n",
              "1                                      Spice Elephant  ...     Banashankari\n",
              "7                                              Onesta  ...     Banashankari\n",
              "9                                           Smacznego  ...     Banashankari\n",
              "10  CafÃÂÃÂÃÂÃÂÃÂÃÂÃÂÃÂ© Down The A...  ...     Banashankari\n",
              "\n",
              "[5 rows x 4 columns]"
            ]
          },
          "metadata": {
            "tags": []
          },
          "execution_count": 141
        }
      ]
    },
    {
      "cell_type": "code",
      "metadata": {
        "colab": {
          "base_uri": "https://localhost:8080/",
          "height": 404
        },
        "id": "Q4uP1dHOWsnz",
        "outputId": "a35a9632-a56b-4605-9a8f-61ec22856c72"
      },
      "source": [
        "df3['listed_in(city)'].value_counts().plot(kind = 'bar',title=\"cities and their restaurant count where restaurant rating is above 4\")"
      ],
      "execution_count": 147,
      "outputs": [
        {
          "output_type": "execute_result",
          "data": {
            "text/plain": [
              "<matplotlib.axes._subplots.AxesSubplot at 0x7f1f94b19f90>"
            ]
          },
          "metadata": {
            "tags": []
          },
          "execution_count": 147
        },
        {
          "output_type": "display_data",
          "data": {
            "image/png": "[encoded data removed]",
            "text/plain": [
              "<Figure size 432x288 with 1 Axes>"
            ]
          },
          "metadata": {
            "tags": [],
            "needs_background": "light"
          }
        }
      ]
    },
    {
      "cell_type": "markdown",
      "metadata": {
        "id": "CtD3SgWnYaSR"
      },
      "source": [
        "Conculsions:\n",
        "1. 'Onesta', 'Baar Union', 'Zamindar' are the restaurants which are highly rated but have a cheap price\n",
        "2. Most of the top restaurants which is repetitive has online orders\n",
        "3. Dine-out and delivery type restaurants are more when compared to others.\n",
        "\n",
        "\n"
      ]
    }
  ]
}